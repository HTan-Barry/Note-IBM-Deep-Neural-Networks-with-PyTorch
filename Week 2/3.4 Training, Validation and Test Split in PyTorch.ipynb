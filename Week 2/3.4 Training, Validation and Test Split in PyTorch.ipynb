{
 "cells": [
  {
   "cell_type": "markdown",
   "metadata": {},
   "source": [
    "# 3.4 Training, Validation and Test Split in PyTorch"
   ]
  },
  {
   "cell_type": "markdown",
   "metadata": {},
   "source": [
    "Data split to: \n",
    "    \n",
    "    Training Data: get Model Parameters (weight and bias) and Hyperparameters (learning rate and batch-size)\n",
    "    \n",
    "    Validation Data: determing the parameter, calculate the Cost\n",
    "    \n",
    "    Test Data"
   ]
  },
  {
   "cell_type": "markdown",
   "metadata": {},
   "source": [
    "## Preparation"
   ]
  },
  {
   "cell_type": "code",
   "execution_count": 1,
   "metadata": {},
   "outputs": [],
   "source": [
    "# Import libraries we need for this lab, and set the random seed\n",
    "\n",
    "from torch import nn\n",
    "import torch\n",
    "import numpy as np\n",
    "import matplotlib.pyplot as plt\n",
    "from torch import nn,optim"
   ]
  },
  {
   "cell_type": "markdown",
   "metadata": {},
   "source": [
    "## Make Some Data"
   ]
  },
  {
   "cell_type": "code",
   "execution_count": 2,
   "metadata": {},
   "outputs": [],
   "source": [
    "# Create Data class\n",
    "\n",
    "from torch.utils.data import Dataset, DataLoader\n",
    "\n",
    "class Data(Dataset):\n",
    "    \n",
    "    # Constructor\n",
    "    def __init__(self, train = True):\n",
    "            self.x = torch.arange(-3, 3, 0.1).view(-1, 1)\n",
    "            self.f = -3 * self.x + 1\n",
    "            self.y = self.f + 0.1 * torch.randn(self.x.size())\n",
    "            self.len = self.x.shape[0]\n",
    "            \n",
    "            #outliers \n",
    "            if train == True:\n",
    "                self.y[0] = 0\n",
    "                self.y[50:55] = 20\n",
    "            else:\n",
    "                pass\n",
    "      \n",
    "    # Getter\n",
    "    def __getitem__(self, index):    \n",
    "        return self.x[index], self.y[index]\n",
    "    \n",
    "    # Get Length\n",
    "    def __len__(self):\n",
    "        return self.len"
   ]
  },
  {
   "cell_type": "code",
   "execution_count": 3,
   "metadata": {},
   "outputs": [],
   "source": [
    "# Create training dataset and validation dataset\n",
    "\n",
    "train_data = Data()\n",
    "val_data = Data(train = False)"
   ]
  },
  {
   "cell_type": "code",
   "execution_count": 4,
   "metadata": {},
   "outputs": [
    {
     "data": {
      "image/png": "[encoded data removed]",
      "text/plain": [
       "<Figure size 432x288 with 1 Axes>"
      ]
     },
     "metadata": {
      "needs_background": "light"
     },
     "output_type": "display_data"
    }
   ],
   "source": [
    "# Plot out training points\n",
    "\n",
    "plt.plot(train_data.x.numpy(), train_data.y.numpy(), 'xr',label=\"training data \")\n",
    "plt.plot(train_data.x.numpy(), train_data.f.numpy(),label=\"true function  \")\n",
    "plt.xlabel('x')\n",
    "plt.ylabel('y')\n",
    "plt.legend()\n",
    "plt.show()"
   ]
  },
  {
   "cell_type": "markdown",
   "metadata": {},
   "source": [
    "## Create a Linear Regression Object, Data Loader, and Criterion Function"
   ]
  },
  {
   "cell_type": "code",
   "execution_count": 17,
   "metadata": {},
   "outputs": [],
   "source": [
    "import torch.nn as nn\n",
    "\n",
    "class LR(nn.Module):\n",
    "    # Constructor\n",
    "    def __init__(self, input_size, output_size):\n",
    "        super(LR, self).__init__()\n",
    "        self.linear = nn.Linear(input_size, output_size)\n",
    "        \n",
    "    # Prediction Function    \n",
    "    def forward(self, x):\n",
    "        out = self.linear(x)\n",
    "        return out"
   ]
  },
  {
   "cell_type": "code",
   "execution_count": 18,
   "metadata": {},
   "outputs": [],
   "source": [
    "# Create MSELoss function and DataLoader\n",
    "criterion = nn.MSELoss()\n",
    "trainloader = DataLoader(dataset = train_data, batch_size=1)"
   ]
  },
  {
   "cell_type": "markdown",
   "metadata": {},
   "source": [
    "## Different learning rates and Data Structures to Store results for different Hyperparameters"
   ]
  },
  {
   "cell_type": "code",
   "execution_count": 22,
   "metadata": {},
   "outputs": [],
   "source": [
    "# create learning Rate list, error list and MODEL list (epochs = 10)\n",
    "\n",
    "epochs = 10\n",
    "learning_rates = [0.0001, 0.001, 0.01, 0.1, 1]\n",
    "validation_error = torch.zeros(len(learning_rates))\n",
    "train_error = torch.zeros(len(learning_rates))\n",
    "\n",
    "MODELS = []"
   ]
  },
  {
   "cell_type": "markdown",
   "metadata": {},
   "source": [
    "## Train different models for different Hyperparameters"
   ]
  },
  {
   "cell_type": "code",
   "execution_count": 23,
   "metadata": {},
   "outputs": [],
   "source": [
    "# Define the train model function and train the model\n",
    "def train_model_with_lr(iter, lr_list):\n",
    "    for i, learning_rate in enumerate(lr_list):\n",
    "        model = LR(1, 1)\n",
    "        optimizer = optim.SGD(model.parameters(), lr = learning_rate)\n",
    "        for epoch in range(iter):\n",
    "            for x, y in trainloader:\n",
    "                yhat = model(x)\n",
    "                loss = criterion(yhat, y)\n",
    "                \n",
    "                optimizer.zero_grad()\n",
    "                \n",
    "                loss.backward()\n",
    "                optimizer.step()\n",
    "        \n",
    "        # Train data\n",
    "        Yhat = model(train_data.x)\n",
    "        train_loss = criterion(Yhat, train_data.y) \n",
    "        train_error[i] = train_loss.item()\n",
    "        \n",
    "        # Validation data\n",
    "        Yhat = model(val_data.x)\n",
    "        val_loss = criterion(Yhat, val_data.y)\n",
    "        validation_error[i] = val_loss.item()\n",
    "        \n",
    "        MODELS.append(model)"
   ]
  },
  {
   "cell_type": "code",
   "execution_count": 24,
   "metadata": {},
   "outputs": [],
   "source": [
    "train_model_with_lr(10, learning_rates)"
   ]
  },
  {
   "cell_type": "markdown",
   "metadata": {},
   "source": [
    "## View the Results"
   ]
  },
  {
   "cell_type": "code",
   "execution_count": 25,
   "metadata": {},
   "outputs": [
    {
     "data": {
      "image/png": "[encoded data removed]",
      "text/plain": [
       "<Figure size 432x288 with 1 Axes>"
      ]
     },
     "metadata": {
      "needs_background": "light"
     },
     "output_type": "display_data"
    }
   ],
   "source": [
    "plt.semilogx(np.array(learning_rates), train_error.numpy(), \n",
    "             label = 'training loss/total Loss')\n",
    "plt.semilogx(np.array(learning_rates), validation_error.numpy(), \n",
    "             label = 'validation cost/total Loss')\n",
    "plt.ylabel('Cost\\ Total Loss')\n",
    "plt.xlabel('learning rate')\n",
    "plt.legend()\n",
    "plt.show()"
   ]
  },
  {
   "cell_type": "code",
   "execution_count": 37,
   "metadata": {},
   "outputs": [
    {
     "data": {
      "text/plain": [
       "[array([[6.579915]], dtype=float32),\n",
       " array([[6.4460998]], dtype=float32),\n",
       " array([[6.3122845]], dtype=float32),\n",
       " array([[6.1784687]], dtype=float32),\n",
       " array([[6.0446534]], dtype=float32),\n",
       " array([[5.910838]], dtype=float32),\n",
       " array([[5.7770233]], dtype=float32),\n",
       " array([[5.6432076]], dtype=float32),\n",
       " array([[5.5093923]], dtype=float32),\n",
       " array([[5.375577]], dtype=float32),\n",
       " array([[5.241761]], dtype=float32),\n",
       " array([[5.1079464]], dtype=float32),\n",
       " array([[4.9741306]], dtype=float32),\n",
       " array([[4.8403153]], dtype=float32),\n",
       " array([[4.7065]], dtype=float32),\n",
       " array([[4.5726843]], dtype=float32),\n",
       " array([[4.4388695]], dtype=float32),\n",
       " array([[4.3050537]], dtype=float32),\n",
       " array([[4.171239]], dtype=float32),\n",
       " array([[4.037423]], dtype=float32),\n",
       " array([[3.9036078]], dtype=float32),\n",
       " array([[3.7697926]], dtype=float32),\n",
       " array([[3.6359773]], dtype=float32),\n",
       " array([[3.5021617]], dtype=float32),\n",
       " array([[3.3683465]], dtype=float32),\n",
       " array([[3.234531]], dtype=float32),\n",
       " array([[3.1007156]], dtype=float32),\n",
       " array([[2.9669003]], dtype=float32),\n",
       " array([[2.833085]], dtype=float32),\n",
       " array([[2.6992695]], dtype=float32),\n",
       " array([[2.5654542]], dtype=float32),\n",
       " array([[2.431639]], dtype=float32),\n",
       " array([[2.2978234]], dtype=float32),\n",
       " array([[2.1640081]], dtype=float32),\n",
       " array([[2.0301929]], dtype=float32),\n",
       " array([[1.8963774]], dtype=float32),\n",
       " array([[1.762562]], dtype=float32),\n",
       " array([[1.6287467]], dtype=float32),\n",
       " array([[1.4949313]], dtype=float32),\n",
       " array([[1.361116]], dtype=float32),\n",
       " array([[1.2273006]], dtype=float32),\n",
       " array([[1.0934852]], dtype=float32),\n",
       " array([[0.9596698]], dtype=float32),\n",
       " array([[0.82585466]], dtype=float32),\n",
       " array([[0.69203925]], dtype=float32),\n",
       " array([[0.55822396]], dtype=float32),\n",
       " array([[0.42440844]], dtype=float32),\n",
       " array([[0.29059315]], dtype=float32),\n",
       " array([[0.15677786]], dtype=float32),\n",
       " array([[0.02296233]], dtype=float32),\n",
       " array([[-0.11085296]], dtype=float32),\n",
       " array([[-0.24466825]], dtype=float32),\n",
       " array([[-0.37848377]], dtype=float32),\n",
       " array([[-0.51229906]], dtype=float32),\n",
       " array([[-0.6461146]], dtype=float32),\n",
       " array([[-0.7799299]], dtype=float32),\n",
       " array([[-0.9137449]], dtype=float32),\n",
       " array([[-1.0475605]], dtype=float32),\n",
       " array([[-1.1813757]], dtype=float32),\n",
       " array([[-1.3151913]], dtype=float32)]"
      ]
     },
     "execution_count": 37,
     "metadata": {},
     "output_type": "execute_result"
    }
   ],
   "source": [
    "good_model = MODELS[2]\n",
    "Yhat = []\n",
    "Y = []\n",
    "for x, y in trainloader:\n",
    "    Yhat.append(good_model(x).detach().numpy())\n",
    "    Y.append(y.detach().numpy())\n"
   ]
  },
  {
   "cell_type": "code",
   "execution_count": 31,
   "metadata": {},
   "outputs": [
    {
     "data": {
      "image/png": "[encoded data removed]",
      "text/plain": [
       "<Figure size 432x288 with 1 Axes>"
      ]
     },
     "metadata": {
      "needs_background": "light"
     },
     "output_type": "display_data"
    }
   ],
   "source": [
    "# Plot the predictions\n",
    "for model, learning_rate in zip(MODELS, learning_rates):\n",
    "    yhat = model(val_data.x)\n",
    "    plt.plot(val_data.x.numpy(), yhat.detach().numpy(), \n",
    "             label='lr: ' + str(learning_rate))\n",
    "plt.plot(val_data.x.numpy(), val_data.y.numpy(), 'xr', label = 'validation data')\n",
    "plt.xlabel('x')\n",
    "plt.ylabel('y')\n",
    "plt.legend()\n",
    "plt.show()"
   ]
  },
  {
   "cell_type": "code",
   "execution_count": null,
   "metadata": {},
   "outputs": [],
   "source": []
  }
 ],
 "metadata": {
  "kernelspec": {
   "display_name": "Python 3",
   "language": "python",
   "name": "python3"
  },
  "language_info": {
   "codemirror_mode": {
    "name": "ipython",
    "version": 3
   },
   "file_extension": ".py",
   "mimetype": "text/x-python",
   "name": "python",
   "nbconvert_exporter": "python",
   "pygments_lexer": "ipython3",
   "version": "3.7.6"
  }
 },
 "nbformat": 4,
 "nbformat_minor": 4
}
