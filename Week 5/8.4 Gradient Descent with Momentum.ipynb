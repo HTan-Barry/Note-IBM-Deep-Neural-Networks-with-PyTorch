{
 "cells": [
  {
   "cell_type": "markdown",
   "metadata": {},
   "source": [
    "# 8.4 Gradient Descent with Momentum"
   ]
  },
  {
   "cell_type": "markdown",
   "metadata": {},
   "source": [
    "## Preparation"
   ]
  },
  {
   "cell_type": "code",
   "execution_count": 1,
   "metadata": {},
   "outputs": [
    {
     "data": {
      "text/plain": [
       "<torch._C.Generator at 0x2740d9e9d50>"
      ]
     },
     "execution_count": 1,
     "metadata": {},
     "output_type": "execute_result"
    }
   ],
   "source": [
    "# These are the libraries that will be used for this lab.\n",
    "\n",
    "import torch \n",
    "import torch.nn as nn\n",
    "import matplotlib.pylab as plt\n",
    "import numpy as np\n",
    "\n",
    "torch.manual_seed(0)"
   ]
  },
  {
   "cell_type": "code",
   "execution_count": 2,
   "metadata": {},
   "outputs": [],
   "source": [
    "# Plot the cubic\n",
    "\n",
    "def plot_cubic(w, optimizer):\n",
    "    LOSS = []\n",
    "    # parameter values \n",
    "    W = torch.arange(-4, 4, 0.1)\n",
    "    # plot the loss fuction \n",
    "    for w.state_dict()['linear.weight'][0] in W:\n",
    "        LOSS.append(cubic(w(torch.tensor([[1.0]]))).item())\n",
    "    w.state_dict()['linear.weight'][0] = 4.0\n",
    "    n_epochs = 10\n",
    "    parameter = []\n",
    "    loss_list = []\n",
    "\n",
    "    # n_epochs\n",
    "    # Use PyTorch custom module to implement a ploynomial function\n",
    "    for n in range(n_epochs):\n",
    "        optimizer.zero_grad() \n",
    "        loss = cubic(w(torch.tensor([[1.0]])))\n",
    "        loss_list.append(loss)\n",
    "        parameter.append(w.state_dict()['linear.weight'][0].detach().data.item())\n",
    "        loss.backward()\n",
    "        optimizer.step()\n",
    "    plt.plot(parameter, loss_list, 'ro', label='parameter values')\n",
    "    plt.plot(W.numpy(), LOSS, label='objective function')\n",
    "    plt.xlabel('w')\n",
    "    plt.ylabel('l(w)')\n",
    "    plt.legend()"
   ]
  },
  {
   "cell_type": "code",
   "execution_count": 3,
   "metadata": {},
   "outputs": [],
   "source": [
    "# Plot the fourth order function and the parameter values\n",
    "\n",
    "def plot_fourth_order(w, optimizer, std=0, color='r', paramlabel='parameter values', objfun=True):\n",
    "    W = torch.arange(-4, 6, 0.1)\n",
    "    LOSS = []\n",
    "    for w.state_dict()['linear.weight'][0] in W:\n",
    "        LOSS.append(fourth_order(w(torch.tensor([[1.0]]))).item())\n",
    "    w.state_dict()['linear.weight'][0] = 6\n",
    "    n_epochs = 100\n",
    "    parameter = []\n",
    "    loss_list = []\n",
    "\n",
    "    #n_epochs\n",
    "    for n in range(n_epochs):\n",
    "        optimizer.zero_grad()\n",
    "        loss = fourth_order(w(torch.tensor([[1.0]]))) + std * torch.randn(1, 1)\n",
    "        loss_list.append(loss)\n",
    "        parameter.append(w.state_dict()['linear.weight'][0].detach().data.item())\n",
    "        loss.backward()\n",
    "        optimizer.step()\n",
    "    \n",
    "    # Plotting\n",
    "    if objfun:\n",
    "        plt.plot(W.numpy(), LOSS, label='objective function')\n",
    "    plt.plot(parameter, loss_list, 'ro',label=paramlabel, color=color)\n",
    "    plt.xlabel('w')\n",
    "    plt.ylabel('l(w)')\n",
    "    plt.legend()"
   ]
  },
  {
   "cell_type": "code",
   "execution_count": 4,
   "metadata": {},
   "outputs": [],
   "source": [
    "# Create a linear model\n",
    "class one_param(nn.Module):\n",
    "    \n",
    "    # Constructor\n",
    "    def __init__(self, input_size, output_size):\n",
    "        super(one_param, self).__init__()\n",
    "        self.linear = nn.Linear(input_size, output_size, bias=False)\n",
    "        \n",
    "    # Prediction\n",
    "    def forward(self, x):\n",
    "        yhat = self.linear(x)\n",
    "        return yhat"
   ]
  },
  {
   "cell_type": "code",
   "execution_count": 5,
   "metadata": {},
   "outputs": [],
   "source": [
    "# Create a one_param object\n",
    "w = one_param(1, 1)"
   ]
  },
  {
   "cell_type": "code",
   "execution_count": 9,
   "metadata": {},
   "outputs": [
    {
     "data": {
      "text/plain": [
       "OrderedDict([('linear.weight', tensor([[-0.0075]]))])"
      ]
     },
     "execution_count": 9,
     "metadata": {},
     "output_type": "execute_result"
    }
   ],
   "source": [
    "w.state_dict()"
   ]
  },
  {
   "cell_type": "markdown",
   "metadata": {},
   "source": [
    "## Saddle Points"
   ]
  },
  {
   "cell_type": "code",
   "execution_count": 6,
   "metadata": {},
   "outputs": [],
   "source": [
    "# Define a function to output a cubic \n",
    "def cubic(yhat):\n",
    "    return yhat ** 3"
   ]
  },
  {
   "cell_type": "code",
   "execution_count": 7,
   "metadata": {},
   "outputs": [],
   "source": [
    "# Create a optimizer without momentum\n",
    "optimizer = torch.optim.SGD(w.parameters(), lr=0.01, momentum=0)"
   ]
  },
  {
   "cell_type": "code",
   "execution_count": 10,
   "metadata": {},
   "outputs": [
    {
     "data": {
      "image/png": "[encoded data removed]",
      "text/plain": [
       "<Figure size 432x288 with 1 Axes>"
      ]
     },
     "metadata": {
      "needs_background": "light"
     },
     "output_type": "display_data"
    }
   ],
   "source": [
    "# Plot the model\n",
    "plot_cubic(w, optimizer)"
   ]
  },
  {
   "cell_type": "code",
   "execution_count": 11,
   "metadata": {},
   "outputs": [],
   "source": [
    "# Create a optimizer with momentum\n",
    "optimizer = torch.optim.SGD(w.parameters(), lr=0.01, momentum=0.9)"
   ]
  },
  {
   "cell_type": "code",
   "execution_count": 12,
   "metadata": {},
   "outputs": [
    {
     "data": {
      "image/png": "[encoded data removed]",
      "text/plain": [
       "<Figure size 432x288 with 1 Axes>"
      ]
     },
     "metadata": {
      "needs_background": "light"
     },
     "output_type": "display_data"
    }
   ],
   "source": [
    "# Plot the model\n",
    "plot_cubic(w, optimizer)"
   ]
  },
  {
   "cell_type": "code",
   "execution_count": null,
   "metadata": {},
   "outputs": [],
   "source": []
  }
 ],
 "metadata": {
  "kernelspec": {
   "display_name": "Python 3",
   "language": "python",
   "name": "python3"
  },
  "language_info": {
   "codemirror_mode": {
    "name": "ipython",
    "version": 3
   },
   "file_extension": ".py",
   "mimetype": "text/x-python",
   "name": "python",
   "nbconvert_exporter": "python",
   "pygments_lexer": "ipython3",
   "version": "3.7.6"
  }
 },
 "nbformat": 4,
 "nbformat_minor": 4
}
